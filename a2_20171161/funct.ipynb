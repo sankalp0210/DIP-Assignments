{
 "cells": [
  {
   "cell_type": "markdown",
   "metadata": {},
   "source": [
    "# Functions used for applying filters"
   ]
  },
  {
   "cell_type": "code",
   "execution_count": 1,
   "metadata": {},
   "outputs": [],
   "source": [
    "import cv2\n",
    "import numpy as np\n",
    "import matplotlib.pyplot as plt"
   ]
  },
  {
   "cell_type": "markdown",
   "metadata": {},
   "source": [
    "## im2col :-\n",
    "### given an image and kernel size, it converts the image into columns containing the values of size of kernel. It is used for vectorised implementation of applying filters."
   ]
  },
  {
   "cell_type": "code",
   "execution_count": 2,
   "metadata": {},
   "outputs": [],
   "source": [
    "def im2col(A, sz):\n",
    "    m, n = A.shape\n",
    "    s1, s2 = A.strides\n",
    "    rows = m-sz[0]+1\n",
    "    cols = n-sz[1]+1\n",
    "    shp = sz[0],sz[1],rows,cols\n",
    "    strd = s1,s2,s1,s2\n",
    "\n",
    "    out = np.lib.stride_tricks.as_strided(A, shape=shp, strides=strd)\n",
    "    return out.reshape(sz[0]*sz[1],-1)[:,::1]"
   ]
  },
  {
   "cell_type": "markdown",
   "metadata": {},
   "source": [
    "## applyFilt :-\n",
    "### function that takes an image and a kernel and applies that filter on the image across all channels"
   ]
  },
  {
   "cell_type": "code",
   "execution_count": 3,
   "metadata": {},
   "outputs": [],
   "source": [
    "def applyFilt(im, kernel):\n",
    "    ans = np.zeros(im.shape)\n",
    "    r, c, ch = im.shape\n",
    "    kr, kc = kernel.shape\n",
    "    x = int((kr - 1)/2)\n",
    "    y = int((kc - 1)/2)\n",
    "    x = max(x, 0)\n",
    "    y = max(y, 0)\n",
    "    kernel = kernel.reshape(kernel.shape[0]*kernel.shape[1], 1)\n",
    "    for i in range(ch):\n",
    "        mat = np.zeros((r+kr-1,c+kc-1))\n",
    "        mat[x:x+r, y:y+c] = im[:,:,i]\n",
    "        out = im2col(mat, (kr, kc))\n",
    "        ot = np.matmul(kernel.T, out)\n",
    "        ans[:,:,i] = ot.reshape((r, c))\n",
    "    return ans"
   ]
  },
  {
   "cell_type": "code",
   "execution_count": 4,
   "metadata": {},
   "outputs": [],
   "source": [
    "def showImages(img, out, str2 = \"Result\"):\n",
    "    arr = plt.subplots(1,2, figsize =(15,15))[1]\n",
    "    arr[0].imshow(img, cmap = 'gray')\n",
    "    arr[0].set_title('Original Image')\n",
    "    arr[1].imshow(out, cmap = 'gray')\n",
    "    arr[1].set_title(str2)\n",
    "    plt.show()"
   ]
  }
 ],
 "metadata": {
  "kernelspec": {
   "display_name": "Python 3",
   "language": "python",
   "name": "python3"
  },
  "language_info": {
   "codemirror_mode": {
    "name": "ipython",
    "version": 3
   },
   "file_extension": ".py",
   "mimetype": "text/x-python",
   "name": "python",
   "nbconvert_exporter": "python",
   "pygments_lexer": "ipython3",
   "version": "3.7.3"
  }
 },
 "nbformat": 4,
 "nbformat_minor": 2
}
